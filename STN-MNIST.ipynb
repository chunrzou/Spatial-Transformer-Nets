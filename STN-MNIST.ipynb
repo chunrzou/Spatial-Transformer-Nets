{
 "cells": [
  {
   "cell_type": "markdown",
   "metadata": {
    "colab_type": "text",
    "id": "IUxumAurQzME"
   },
   "source": [
    "The code of Spatial Transformer Networks experimenting on MNIST is based on the code in github: https://github.com/zsdonghao/Spatial-Transformer-Nets.git <br>\n",
    "The code here is part of the progress on learning-based registration project. "
   ]
  },
  {
   "cell_type": "code",
   "execution_count": 1,
   "metadata": {},
   "outputs": [],
   "source": [
    "import os\n",
    "os.environ[\"CUDA_DEVICE_ORDER\"]=\"PCI_BUS_ID\"  \n",
    "os.environ[\"CUDA_VISIBLE_DEVICES\"]=\"0\""
   ]
  },
  {
   "cell_type": "code",
   "execution_count": 2,
   "metadata": {
    "colab": {},
    "colab_type": "code",
    "id": "QfHpUbCibcfY"
   },
   "outputs": [
    {
     "name": "stderr",
     "output_type": "stream",
     "text": [
      "C:\\ProgramData\\Anaconda3\\lib\\site-packages\\h5py\\__init__.py:36: FutureWarning: Conversion of the second argument of issubdtype from `float` to `np.floating` is deprecated. In future, it will be treated as `np.float64 == np.dtype(float).type`.\n",
      "  from ._conv import register_converters as _register_converters\n"
     ]
    }
   ],
   "source": [
    "import sys\n",
    "import os\n",
    "\n",
    "import numpy as np\n",
    "import tensorflow as tf\n",
    "import Functions \n",
    "from importlib import reload\n",
    "import matplotlib.pyplot as plt\n",
    "import imp\n",
    "from tensorflow.keras import backend as K\n",
    "from tensorflow.keras.utils import plot_model\n",
    "from tensorflow.keras.utils import to_categorical"
   ]
  },
  {
   "cell_type": "code",
   "execution_count": 179,
   "metadata": {},
   "outputs": [
    {
     "data": {
      "text/plain": [
       "<module 'Models' from 'D:\\\\GoogleDrive\\\\Github\\\\Spatial-Transformer-Nets\\\\Models.py'>"
      ]
     },
     "execution_count": 179,
     "metadata": {},
     "output_type": "execute_result"
    }
   ],
   "source": [
    "imp.reload(Functions)\n",
    "imp.reload(Models)"
   ]
  },
  {
   "cell_type": "code",
   "execution_count": 3,
   "metadata": {},
   "outputs": [
    {
     "name": "stdout",
     "output_type": "stream",
     "text": [
      "[name: \"/device:CPU:0\"\n",
      "device_type: \"CPU\"\n",
      "memory_limit: 268435456\n",
      "locality {\n",
      "}\n",
      "incarnation: 13371894571792659663\n",
      "]\n"
     ]
    }
   ],
   "source": [
    "from tensorflow.python.client import device_lib\n",
    "print(device_lib.list_local_devices())"
   ]
  },
  {
   "cell_type": "code",
   "execution_count": null,
   "metadata": {},
   "outputs": [],
   "source": [
    "!pip uninstall tensorflow"
   ]
  },
  {
   "cell_type": "code",
   "execution_count": 186,
   "metadata": {},
   "outputs": [
    {
     "data": {
      "text/plain": [
       "False"
      ]
     },
     "execution_count": 186,
     "metadata": {},
     "output_type": "execute_result"
    }
   ],
   "source": [
    "tf.test.is_gpu_available()"
   ]
  },
  {
   "cell_type": "code",
   "execution_count": 183,
   "metadata": {},
   "outputs": [
    {
     "ename": "AttributeError",
     "evalue": "module 'tensorflow.python.keras.api._v1.keras.backend' has no attribute 'tensorflow_backend'",
     "output_type": "error",
     "traceback": [
      "\u001b[1;31m---------------------------------------------------------------------------\u001b[0m",
      "\u001b[1;31mAttributeError\u001b[0m                            Traceback (most recent call last)",
      "\u001b[1;32m<ipython-input-183-eb8f9dc10472>\u001b[0m in \u001b[0;36m<module>\u001b[1;34m()\u001b[0m\n\u001b[1;32m----> 1\u001b[1;33m \u001b[0mK\u001b[0m\u001b[1;33m.\u001b[0m\u001b[0mtensorflow_backend\u001b[0m\u001b[1;33m.\u001b[0m\u001b[0m_get_available_gpus\u001b[0m\u001b[1;33m(\u001b[0m\u001b[1;33m)\u001b[0m\u001b[1;33m\u001b[0m\u001b[0m\n\u001b[0m",
      "\u001b[1;32m~\\AppData\\Roaming\\Python\\Python36\\site-packages\\tensorflow\\python\\util\\deprecation_wrapper.py\u001b[0m in \u001b[0;36m__getattr__\u001b[1;34m(self, name)\u001b[0m\n\u001b[0;32m    104\u001b[0m     \u001b[1;32mif\u001b[0m \u001b[0mname\u001b[0m\u001b[1;33m.\u001b[0m\u001b[0mstartswith\u001b[0m\u001b[1;33m(\u001b[0m\u001b[1;34m'_dw_'\u001b[0m\u001b[1;33m)\u001b[0m\u001b[1;33m:\u001b[0m\u001b[1;33m\u001b[0m\u001b[0m\n\u001b[0;32m    105\u001b[0m       \u001b[1;32mraise\u001b[0m \u001b[0mAttributeError\u001b[0m\u001b[1;33m(\u001b[0m\u001b[1;34m'Accessing local variables before they are created.'\u001b[0m\u001b[1;33m)\u001b[0m\u001b[1;33m\u001b[0m\u001b[0m\n\u001b[1;32m--> 106\u001b[1;33m     \u001b[0mattr\u001b[0m \u001b[1;33m=\u001b[0m \u001b[0mgetattr\u001b[0m\u001b[1;33m(\u001b[0m\u001b[0mself\u001b[0m\u001b[1;33m.\u001b[0m\u001b[0m_dw_wrapped_module\u001b[0m\u001b[1;33m,\u001b[0m \u001b[0mname\u001b[0m\u001b[1;33m)\u001b[0m\u001b[1;33m\u001b[0m\u001b[0m\n\u001b[0m\u001b[0;32m    107\u001b[0m     if (self._dw_warning_count < _PER_MODULE_WARNING_LIMIT and\n\u001b[0;32m    108\u001b[0m         name not in self._dw_deprecated_printed):\n",
      "\u001b[1;31mAttributeError\u001b[0m: module 'tensorflow.python.keras.api._v1.keras.backend' has no attribute 'tensorflow_backend'"
     ]
    }
   ],
   "source": [
    "import keras\n",
    "config = tf.ConfigProto( device_count = {'GPU': 1 , 'CPU': 0} ) \n",
    "sess = tf.Session(config=config) \n",
    "keras.backend.set_session(sess)"
   ]
  },
  {
   "cell_type": "code",
   "execution_count": 153,
   "metadata": {},
   "outputs": [],
   "source": [
    "## Read the original datasets\n",
    "## --------------------------------\n",
    "(X_train,y_train),(X_test,y_test) = tf.keras.datasets.mnist.load_data()\n",
    "X_train = X_train.reshape((-1,28,28,1))\n",
    "X_test = X_test.reshape((-1,28,28,1))"
   ]
  },
  {
   "cell_type": "code",
   "execution_count": 154,
   "metadata": {
    "scrolled": true
   },
   "outputs": [
    {
     "name": "stderr",
     "output_type": "stream",
     "text": [
      "1200it [00:19, 62.15it/s]\n",
      "200it [00:03, 59.28it/s]\n"
     ]
    }
   ],
   "source": [
    "## Enlarge datasets with distortion\n",
    "## --------------------------------\n",
    "orig_dims = (28,28)\n",
    "input_dims = (28,28,1)\n",
    "\n",
    "X_train_input = Functions.pad_distort_ims_fn(X_train,output_size=input_dims)\n",
    "X_test_input = Functions.pad_distort_ims_fn(X_test,output_size=input_dims)\n",
    "\n",
    "X_train_input = np.expand_dims(X_train_input,axis=-1) \n",
    "X_test_input = np.expand_dims(X_test_input,axis=-1) \n",
    "\n",
    "X_train_input = X_train_input /255.0\n",
    "X_test_input = X_test_input /255.0\n",
    "\n",
    "y_train_vec = to_categorical(y_train)\n",
    "y_test_vec = to_categorical(y_test)"
   ]
  },
  {
   "cell_type": "code",
   "execution_count": 169,
   "metadata": {},
   "outputs": [
    {
     "data": {
      "image/png": "[encoded data removed]",
      "text/plain": [
       "<Figure size 432x288 with 1 Axes>"
      ]
     },
     "metadata": {},
     "output_type": "display_data"
    }
   ],
   "source": [
    "%matplotlib inline\n",
    "index = np.random.randint(0,10000)\n",
    "\n",
    "plt.imshow(X_test_input[index].reshape((input_dims[0],input_dims[1])))\n",
    "\n",
    "plt.show()\n"
   ]
  },
  {
   "cell_type": "code",
   "execution_count": 180,
   "metadata": {},
   "outputs": [],
   "source": [
    "layer_nin = tf.keras.layers.Input(shape=input_dims,name='input_layer')\n",
    "model_block = Models.affine_transformer_mnist_model(input_dims,output_dims)\n",
    "\n",
    "model_output = model_block(layer_nin)\n",
    "model = tf.keras.models.Model(inputs=layer_nin,outputs=model_output)"
   ]
  },
  {
   "cell_type": "code",
   "execution_count": 109,
   "metadata": {},
   "outputs": [],
   "source": [
    "_=plot_model(model, to_file='model_plot.png', show_shapes=True, show_layer_names=True)"
   ]
  },
  {
   "cell_type": "code",
   "execution_count": 181,
   "metadata": {},
   "outputs": [],
   "source": [
    "sgd = tf.keras.optimizers.SGD(lr=0.01,momentum=0.9)\n",
    "adam = tf.keras.optimizers.Adam(lr=0.001)\n",
    "\n",
    "model.compile(optimizer=sgd,loss=\"categorical_crossentropy\",metrics=['categorical_accuracy'])\n",
    "#model.compile(optimizer=adam,loss=\"categorical_crossentropy\",metrics=['categorical_accuracy'])"
   ]
  },
  {
   "cell_type": "code",
   "execution_count": 137,
   "metadata": {
    "scrolled": true
   },
   "outputs": [
    {
     "name": "stdout",
     "output_type": "stream",
     "text": [
      "Train on 60000 samples, validate on 10000 samples\n",
      "Epoch 1/100\n",
      "12416/60000 [=====>........................] - ETA: 2:34 - loss: 2.3042 - categorical_accuracy: 0.09 - ETA: 1:05 - loss: 2.3052 - categorical_accuracy: 0.09 - ETA: 46s - loss: 2.3067 - categorical_accuracy: 0.0938 - ETA: 38s - loss: 2.3075 - categorical_accuracy: 0.099 - ETA: 37s - loss: 2.3091 - categorical_accuracy: 0.096 - ETA: 33s - loss: 2.3095 - categorical_accuracy: 0.097 - ETA: 31s - loss: 2.3068 - categorical_accuracy: 0.099 - ETA: 29s - loss: 2.3052 - categorical_accuracy: 0.099 - ETA: 27s - loss: 2.3055 - categorical_accuracy: 0.101 - ETA: 27s - loss: 2.3058 - categorical_accuracy: 0.100 - ETA: 26s - loss: 2.3048 - categorical_accuracy: 0.101 - ETA: 26s - loss: 2.3043 - categorical_accuracy: 0.101 - ETA: 25s - loss: 2.3044 - categorical_accuracy: 0.101 - ETA: 25s - loss: 2.3043 - categorical_accuracy: 0.103 - ETA: 24s - loss: 2.3039 - categorical_accuracy: 0.102 - ETA: 24s - loss: 2.3040 - categorical_accuracy: 0.102 - ETA: 23s - loss: 2.3038 - categorical_accuracy: 0.103 - ETA: 23s - loss: 2.3036 - categorical_accuracy: 0.102 - ETA: 23s - loss: 2.3037 - categorical_accuracy: 0.101 - ETA: 22s - loss: 2.3033 - categorical_accuracy: 0.101 - ETA: 22s - loss: 2.3032 - categorical_accuracy: 0.101 - ETA: 22s - loss: 2.3033 - categorical_accuracy: 0.100 - ETA: 22s - loss: 2.3031 - categorical_accuracy: 0.099 - ETA: 21s - loss: 2.3026 - categorical_accuracy: 0.101 - ETA: 21s - loss: 2.3027 - categorical_accuracy: 0.101 - ETA: 21s - loss: 2.3025 - categorical_accuracy: 0.103 - ETA: 21s - loss: 2.3021 - categorical_accuracy: 0.105 - ETA: 21s - loss: 2.3020 - categorical_accuracy: 0.106 - ETA: 20s - loss: 2.3016 - categorical_accuracy: 0.106 - ETA: 20s - loss: 2.3015 - categorical_accuracy: 0.106 - ETA: 20s - loss: 2.3012 - categorical_accuracy: 0.107 - ETA: 20s - loss: 2.3012 - categorical_accuracy: 0.107 - ETA: 20s - loss: 2.3005 - categorical_accuracy: 0.110 - ETA: 20s - loss: 2.3006 - categorical_accuracy: 0.109 - ETA: 20s - loss: 2.3006 - categorical_accuracy: 0.109 - ETA: 20s - loss: 2.3003 - categorical_accuracy: 0.110 - ETA: 19s - loss: 2.3003 - categorical_accuracy: 0.109 - ETA: 19s - loss: 2.3003 - categorical_accuracy: 0.109 - ETA: 19s - loss: 2.3002 - categorical_accuracy: 0.110 - ETA: 19s - loss: 2.2998 - categorical_accuracy: 0.111 - ETA: 19s - loss: 2.2997 - categorical_accuracy: 0.111 - ETA: 19s - loss: 2.2996 - categorical_accuracy: 0.112 - ETA: 18s - loss: 2.2996 - categorical_accuracy: 0.113 - ETA: 18s - loss: 2.2995 - categorical_accuracy: 0.114 - ETA: 18s - loss: 2.2993 - categorical_accuracy: 0.115 - ETA: 18s - loss: 2.2992 - categorical_accuracy: 0.116 - ETA: 18s - loss: 2.2991 - categorical_accuracy: 0.118 - ETA: 18s - loss: 2.2990 - categorical_accuracy: 0.118 - ETA: 18s - loss: 2.2985 - categorical_accuracy: 0.119 - ETA: 17s - loss: 2.2984 - categorical_accuracy: 0.121 - ETA: 17s - loss: 2.2982 - categorical_accuracy: 0.121 - ETA: 17s - loss: 2.2979 - categorical_accuracy: 0.123 - ETA: 17s - loss: 2.2977 - categorical_accuracy: 0.125 - ETA: 17s - loss: 2.2974 - categorical_accuracy: 0.127 - ETA: 17s - loss: 2.2972 - categorical_accuracy: 0.1281"
     ]
    },
    {
     "ename": "KeyboardInterrupt",
     "evalue": "",
     "output_type": "error",
     "traceback": [
      "\u001b[1;31m---------------------------------------------------------------------------\u001b[0m",
      "\u001b[1;31mKeyboardInterrupt\u001b[0m                         Traceback (most recent call last)",
      "\u001b[1;32m<ipython-input-137-614e35394cb7>\u001b[0m in \u001b[0;36m<module>\u001b[1;34m()\u001b[0m\n\u001b[0;32m      1\u001b[0m \u001b[0mbatch_size\u001b[0m \u001b[1;33m=\u001b[0m \u001b[1;36m128\u001b[0m\u001b[1;33m\u001b[0m\u001b[0m\n\u001b[0;32m      2\u001b[0m \u001b[0mepochs\u001b[0m\u001b[1;33m=\u001b[0m\u001b[1;36m100\u001b[0m\u001b[1;33m\u001b[0m\u001b[0m\n\u001b[1;32m----> 3\u001b[1;33m \u001b[0mmodel_v1\u001b[0m\u001b[1;33m.\u001b[0m\u001b[0mfit\u001b[0m\u001b[1;33m(\u001b[0m\u001b[0mX_train_input\u001b[0m\u001b[1;33m,\u001b[0m\u001b[0my_train_vec\u001b[0m\u001b[1;33m,\u001b[0m\u001b[0mvalidation_data\u001b[0m\u001b[1;33m=\u001b[0m\u001b[1;33m(\u001b[0m\u001b[0mX_test_input\u001b[0m\u001b[1;33m,\u001b[0m\u001b[0my_test_vec\u001b[0m\u001b[1;33m)\u001b[0m\u001b[1;33m,\u001b[0m\u001b[0mepochs\u001b[0m\u001b[1;33m=\u001b[0m\u001b[0mepochs\u001b[0m\u001b[1;33m,\u001b[0m\u001b[0mbatch_size\u001b[0m\u001b[1;33m=\u001b[0m\u001b[0mbatch_size\u001b[0m\u001b[1;33m,\u001b[0m\u001b[0mshuffle\u001b[0m\u001b[1;33m=\u001b[0m\u001b[1;32mTrue\u001b[0m\u001b[1;33m)\u001b[0m\u001b[1;33m\u001b[0m\u001b[0m\n\u001b[0m",
      "\u001b[1;32m~\\AppData\\Roaming\\Python\\Python36\\site-packages\\tensorflow\\python\\keras\\engine\\training.py\u001b[0m in \u001b[0;36mfit\u001b[1;34m(self, x, y, batch_size, epochs, verbose, callbacks, validation_split, validation_data, shuffle, class_weight, sample_weight, initial_epoch, steps_per_epoch, validation_steps, validation_freq, max_queue_size, workers, use_multiprocessing, **kwargs)\u001b[0m\n\u001b[0;32m    778\u001b[0m           \u001b[0mvalidation_steps\u001b[0m\u001b[1;33m=\u001b[0m\u001b[0mvalidation_steps\u001b[0m\u001b[1;33m,\u001b[0m\u001b[1;33m\u001b[0m\u001b[0m\n\u001b[0;32m    779\u001b[0m           \u001b[0mvalidation_freq\u001b[0m\u001b[1;33m=\u001b[0m\u001b[0mvalidation_freq\u001b[0m\u001b[1;33m,\u001b[0m\u001b[1;33m\u001b[0m\u001b[0m\n\u001b[1;32m--> 780\u001b[1;33m           steps_name='steps_per_epoch')\n\u001b[0m\u001b[0;32m    781\u001b[0m \u001b[1;33m\u001b[0m\u001b[0m\n\u001b[0;32m    782\u001b[0m   def evaluate(self,\n",
      "\u001b[1;32m~\\AppData\\Roaming\\Python\\Python36\\site-packages\\tensorflow\\python\\keras\\engine\\training_arrays.py\u001b[0m in \u001b[0;36mmodel_iteration\u001b[1;34m(model, inputs, targets, sample_weights, batch_size, epochs, verbose, callbacks, val_inputs, val_targets, val_sample_weights, shuffle, initial_epoch, steps_per_epoch, validation_steps, validation_freq, mode, validation_in_fit, prepared_feed_values_from_dataset, steps_name, **kwargs)\u001b[0m\n\u001b[0;32m    361\u001b[0m \u001b[1;33m\u001b[0m\u001b[0m\n\u001b[0;32m    362\u001b[0m         \u001b[1;31m# Get outputs.\u001b[0m\u001b[1;33m\u001b[0m\u001b[1;33m\u001b[0m\u001b[0m\n\u001b[1;32m--> 363\u001b[1;33m         \u001b[0mbatch_outs\u001b[0m \u001b[1;33m=\u001b[0m \u001b[0mf\u001b[0m\u001b[1;33m(\u001b[0m\u001b[0mins_batch\u001b[0m\u001b[1;33m)\u001b[0m\u001b[1;33m\u001b[0m\u001b[0m\n\u001b[0m\u001b[0;32m    364\u001b[0m         \u001b[1;32mif\u001b[0m \u001b[1;32mnot\u001b[0m \u001b[0misinstance\u001b[0m\u001b[1;33m(\u001b[0m\u001b[0mbatch_outs\u001b[0m\u001b[1;33m,\u001b[0m \u001b[0mlist\u001b[0m\u001b[1;33m)\u001b[0m\u001b[1;33m:\u001b[0m\u001b[1;33m\u001b[0m\u001b[0m\n\u001b[0;32m    365\u001b[0m           \u001b[0mbatch_outs\u001b[0m \u001b[1;33m=\u001b[0m \u001b[1;33m[\u001b[0m\u001b[0mbatch_outs\u001b[0m\u001b[1;33m]\u001b[0m\u001b[1;33m\u001b[0m\u001b[0m\n",
      "\u001b[1;32m~\\AppData\\Roaming\\Python\\Python36\\site-packages\\tensorflow\\python\\keras\\backend.py\u001b[0m in \u001b[0;36m__call__\u001b[1;34m(self, inputs)\u001b[0m\n\u001b[0;32m   3290\u001b[0m \u001b[1;33m\u001b[0m\u001b[0m\n\u001b[0;32m   3291\u001b[0m     fetched = self._callable_fn(*array_vals,\n\u001b[1;32m-> 3292\u001b[1;33m                                 run_metadata=self.run_metadata)\n\u001b[0m\u001b[0;32m   3293\u001b[0m     \u001b[0mself\u001b[0m\u001b[1;33m.\u001b[0m\u001b[0m_call_fetch_callbacks\u001b[0m\u001b[1;33m(\u001b[0m\u001b[0mfetched\u001b[0m\u001b[1;33m[\u001b[0m\u001b[1;33m-\u001b[0m\u001b[0mlen\u001b[0m\u001b[1;33m(\u001b[0m\u001b[0mself\u001b[0m\u001b[1;33m.\u001b[0m\u001b[0m_fetches\u001b[0m\u001b[1;33m)\u001b[0m\u001b[1;33m:\u001b[0m\u001b[1;33m]\u001b[0m\u001b[1;33m)\u001b[0m\u001b[1;33m\u001b[0m\u001b[0m\n\u001b[0;32m   3294\u001b[0m     output_structure = nest.pack_sequence_as(\n",
      "\u001b[1;32m~\\AppData\\Roaming\\Python\\Python36\\site-packages\\tensorflow\\python\\client\\session.py\u001b[0m in \u001b[0;36m__call__\u001b[1;34m(self, *args, **kwargs)\u001b[0m\n\u001b[0;32m   1456\u001b[0m         ret = tf_session.TF_SessionRunCallable(self._session._session,\n\u001b[0;32m   1457\u001b[0m                                                \u001b[0mself\u001b[0m\u001b[1;33m.\u001b[0m\u001b[0m_handle\u001b[0m\u001b[1;33m,\u001b[0m \u001b[0margs\u001b[0m\u001b[1;33m,\u001b[0m\u001b[1;33m\u001b[0m\u001b[0m\n\u001b[1;32m-> 1458\u001b[1;33m                                                run_metadata_ptr)\n\u001b[0m\u001b[0;32m   1459\u001b[0m         \u001b[1;32mif\u001b[0m \u001b[0mrun_metadata\u001b[0m\u001b[1;33m:\u001b[0m\u001b[1;33m\u001b[0m\u001b[0m\n\u001b[0;32m   1460\u001b[0m           \u001b[0mproto_data\u001b[0m \u001b[1;33m=\u001b[0m \u001b[0mtf_session\u001b[0m\u001b[1;33m.\u001b[0m\u001b[0mTF_GetBuffer\u001b[0m\u001b[1;33m(\u001b[0m\u001b[0mrun_metadata_ptr\u001b[0m\u001b[1;33m)\u001b[0m\u001b[1;33m\u001b[0m\u001b[0m\n",
      "\u001b[1;31mKeyboardInterrupt\u001b[0m: "
     ]
    }
   ],
   "source": [
    "batch_size = 128\n",
    "epochs=100\n",
    "model_v1.fit(X_train_input,y_train_vec,validation_data=(X_test_input,y_test_vec),epochs=epochs,batch_size=batch_size,shuffle=True)"
   ]
  },
  {
   "cell_type": "code",
   "execution_count": 67,
   "metadata": {},
   "outputs": [],
   "source": [
    "recon_net = tf.keras.models.Model(inputs=model.input,outputs=t_transformer)"
   ]
  },
  {
   "cell_type": "code",
   "execution_count": 100,
   "metadata": {},
   "outputs": [
    {
     "data": {
      "image/png": "[encoded data removed]",
      "text/plain": [
       "<Figure size 432x288 with 2 Axes>"
      ]
     },
     "metadata": {},
     "output_type": "display_data"
    }
   ],
   "source": [
    "%matplotlib inline\n",
    "index = np.random.randint(0,10000)\n",
    "fig,(ax1,ax2) = plt.subplots(1,2)\n",
    "ax1.imshow(X_test_input[index].reshape((28,28)))\n",
    "recon = recon_net.predict(X_test_input[index].reshape(1,28,28,1))\n",
    "ax2.imshow(recon.reshape((28,28)))\n",
    "plt.show()\n",
    "#print(np.max(X_test_28[index]),np.min(X_test_40[index]))\n",
    "#print(np.max(recon),np.min(recon))"
   ]
  },
  {
   "cell_type": "markdown",
   "metadata": {},
   "source": [
    "## Sanity Check"
   ]
  },
  {
   "cell_type": "code",
   "execution_count": null,
   "metadata": {},
   "outputs": [],
   "source": [
    "X_train_40[1].shape"
   ]
  },
  {
   "cell_type": "code",
   "execution_count": null,
   "metadata": {},
   "outputs": [],
   "source": [
    "## Load Images\n",
    "\n",
    "# load 4 cat images\n",
    "img1 = X_train_40[1]\n",
    "img2 = X_train_40[2]\n",
    "img3 = X_train_40[3]\n",
    "img4 = X_train_40[4]\n",
    "\n",
    "input_img = np.stack([img1, img2, img3, img4], axis=0)\n",
    "B, H, W, C = input_img.shape\n",
    "print(\"Input Img Shape: {}\".format(input_img.shape))"
   ]
  },
  {
   "cell_type": "code",
   "execution_count": null,
   "metadata": {},
   "outputs": [],
   "source": [
    "## Identity Transform\n",
    "\n",
    "theta = np.array([[100., 0, 0], [0, 100., 0]])\n",
    "\n",
    "x = tf.placeholder(tf.float32, [None, H, W, C])\n",
    "\n",
    "with tf.variable_scope('spatial_transformer'):\n",
    "    theta = theta.astype('float32')\n",
    "    theta = theta.flatten()\n",
    "\n",
    "    # define loc net weight and bias\n",
    "    loc_in = H*W*C\n",
    "    loc_out = 6\n",
    "    W_loc = tf.Variable(tf.zeros([loc_in, loc_out]), name='W_loc')\n",
    "    b_loc = tf.Variable(initial_value=theta, name='b_loc')\n",
    "    \n",
    "    # tie everything together\n",
    "    fc_loc = tf.tanh(tf.matmul(tf.zeros([B, loc_in]), W_loc) + b_loc)\n",
    "    h_trans = Functions.spatial_transformer_network(x, fc_loc)"
   ]
  },
  {
   "cell_type": "code",
   "execution_count": null,
   "metadata": {},
   "outputs": [],
   "source": [
    "# run session\n",
    "sess = tf.Session()\n",
    "sess.run(tf.global_variables_initializer())\n",
    "y = sess.run(h_trans, feed_dict={x: input_img})\n",
    "print(\"y: {}\".format(y.shape))\n"
   ]
  },
  {
   "cell_type": "code",
   "execution_count": null,
   "metadata": {},
   "outputs": [],
   "source": [
    "fig,((ax1,ax2,ax3,ax4),(ax5,ax6,ax7,ax8)) = plt.subplots(2,4)\n",
    "ax1.imshow(input_img[0].reshape((40,40)))\n",
    "ax2.imshow(y[0].reshape((40,40)))\n",
    "ax3.imshow(input_img[1].reshape((40,40)))\n",
    "ax4.imshow(y[1].reshape((40,40)))\n",
    "ax5.imshow(input_img[2].reshape((40,40)))\n",
    "ax6.imshow(y[2].reshape((40,40)))\n",
    "ax7.imshow(input_img[3].reshape((40,40)))\n",
    "ax8.imshow(y[3].reshape((40,40)))"
   ]
  },
  {
   "cell_type": "markdown",
   "metadata": {},
   "source": [
    "## Rotation"
   ]
  },
  {
   "cell_type": "code",
   "execution_count": null,
   "metadata": {},
   "outputs": [],
   "source": [
    "# initialize affine transform tensor `theta`\n",
    "import math\n",
    "degree = 45\n",
    "theta = np.array([\n",
    "    [np.cos(math.radians(degree)), -np.sin(math.radians(degree)), 0], \n",
    "    [np.sin(math.radians(degree)), np.cos(math.radians(degree)), 0]\n",
    "])"
   ]
  },
  {
   "cell_type": "code",
   "execution_count": null,
   "metadata": {},
   "outputs": [],
   "source": [
    "x = tf.placeholder(tf.float32, [None, H, W, C])\n",
    "\n",
    "with tf.variable_scope('spatial_transformer'):\n",
    "    theta = theta.astype('float32')\n",
    "    theta = theta.flatten()\n",
    "\n",
    "    # define loc net weight and bias\n",
    "    loc_in = H*W*C\n",
    "    loc_out = 6\n",
    "    W_loc = tf.Variable(tf.zeros([loc_in, loc_out]), name='W_loc')\n",
    "    b_loc = tf.Variable(initial_value=theta, name='b_loc')\n",
    "    \n",
    "    # tie everything together\n",
    "    fc_loc = tf.matmul(tf.zeros([B, loc_in]), W_loc) + b_loc\n",
    "    h_trans = Functions.spatial_transformer_network(x, fc_loc)"
   ]
  },
  {
   "cell_type": "code",
   "execution_count": null,
   "metadata": {},
   "outputs": [],
   "source": [
    "# run session\n",
    "sess = tf.Session()\n",
    "sess.run(tf.global_variables_initializer())\n",
    "y = sess.run(h_trans, feed_dict={x: input_img})\n",
    "print(\"y: {}\".format(y.shape))"
   ]
  },
  {
   "cell_type": "code",
   "execution_count": null,
   "metadata": {},
   "outputs": [],
   "source": [
    "fig,((ax1,ax2,ax3,ax4),(ax5,ax6,ax7,ax8)) = plt.subplots(2,4)\n",
    "ax1.imshow(input_img[0].reshape((40,40)))\n",
    "ax2.imshow(y[0].reshape((40,40)))\n",
    "ax3.imshow(input_img[1].reshape((40,40)))\n",
    "ax4.imshow(y[1].reshape((40,40)))\n",
    "ax5.imshow(input_img[2].reshape((40,40)))\n",
    "ax6.imshow(y[2].reshape((40,40)))\n",
    "ax7.imshow(input_img[3].reshape((40,40)))\n",
    "ax8.imshow(y[3].reshape((40,40)))"
   ]
  },
  {
   "cell_type": "markdown",
   "metadata": {},
   "source": [
    "## Zoom in"
   ]
  },
  {
   "cell_type": "code",
   "execution_count": null,
   "metadata": {},
   "outputs": [],
   "source": [
    "# initialize affine transform tensor `theta`\n",
    "import math\n",
    "degree = 45\n",
    "theta = np.array([\n",
    "    [-1*np.cos(math.radians(degree)), -1*-np.sin(math.radians(degree)), 0], \n",
    "    [-1*np.sin(math.radians(degree)), -1*np.cos(math.radians(degree)), 0]\n",
    "])"
   ]
  },
  {
   "cell_type": "code",
   "execution_count": null,
   "metadata": {},
   "outputs": [],
   "source": [
    "x = tf.placeholder(tf.float32, [None, H, W, C])\n",
    "\n",
    "with tf.variable_scope('spatial_transformer'):\n",
    "    theta = theta.astype('float32')\n",
    "    theta = theta.flatten()\n",
    "\n",
    "    # define loc net weight and bias\n",
    "    loc_in = H*W*C\n",
    "    loc_out = 6\n",
    "    W_loc = tf.Variable(tf.zeros([loc_in, loc_out]), name='W_loc')\n",
    "    b_loc = tf.Variable(initial_value=theta, name='b_loc')\n",
    "    \n",
    "    # tie everything together\n",
    "    fc_loc = tf.matmul(tf.zeros([B, loc_in]), W_loc) + b_loc\n",
    "    h_trans = Functions.spatial_transformer_network(x, fc_loc)"
   ]
  },
  {
   "cell_type": "code",
   "execution_count": null,
   "metadata": {},
   "outputs": [],
   "source": [
    "# run session\n",
    "sess = tf.Session()\n",
    "sess.run(tf.global_variables_initializer())\n",
    "y = sess.run(h_trans, feed_dict={x: input_img})\n",
    "print(\"y: {}\".format(y.shape))"
   ]
  },
  {
   "cell_type": "code",
   "execution_count": null,
   "metadata": {},
   "outputs": [],
   "source": [
    "fig,((ax1,ax2,ax3,ax4),(ax5,ax6,ax7,ax8)) = plt.subplots(2,4)\n",
    "ax1.imshow(input_img[0].reshape((40,40)))\n",
    "ax2.imshow(y[0].reshape((40,40)))\n",
    "ax3.imshow(input_img[1].reshape((40,40)))\n",
    "ax4.imshow(y[1].reshape((40,40)))\n",
    "ax5.imshow(input_img[2].reshape((40,40)))\n",
    "ax6.imshow(y[2].reshape((40,40)))\n",
    "ax7.imshow(input_img[3].reshape((40,40)))\n",
    "ax8.imshow(y[3].reshape((40,40)))"
   ]
  },
  {
   "cell_type": "markdown",
   "metadata": {},
   "source": [
    "## Zoom out"
   ]
  },
  {
   "cell_type": "code",
   "execution_count": null,
   "metadata": {},
   "outputs": [],
   "source": [
    "# initialize affine transform tensor `theta`\n",
    "import math\n",
    "degree = 45\n",
    "theta = np.array([\n",
    "    [3*np.cos(math.radians(degree)), 3*-np.sin(math.radians(degree)), 0], \n",
    "    [3*np.sin(math.radians(degree)), 3*np.cos(math.radians(degree)), 0]\n",
    "])\n",
    "\n",
    "x = tf.placeholder(tf.float32, [None, H, W, C])\n",
    "\n",
    "with tf.variable_scope('spatial_transformer'):\n",
    "    theta = theta.astype('float32')\n",
    "    theta = theta.flatten()\n",
    "\n",
    "    # define loc net weight and bias\n",
    "    loc_in = H*W*C\n",
    "    loc_out = 6\n",
    "    W_loc = tf.Variable(tf.zeros([loc_in, loc_out]), name='W_loc')\n",
    "    b_loc = tf.Variable(initial_value=theta, name='b_loc')\n",
    "    \n",
    "    # tie everything together\n",
    "    fc_loc = tf.matmul(tf.zeros([B, loc_in]), W_loc) + b_loc\n",
    "    h_trans = Functions.spatial_transformer_network(x, fc_loc)\n",
    "    \n",
    "# run session\n",
    "sess = tf.Session()\n",
    "sess.run(tf.global_variables_initializer())\n",
    "y = sess.run(h_trans, feed_dict={x: input_img})\n",
    "print(\"y: {}\".format(y.shape))\n",
    "\n",
    "fig,((ax1,ax2,ax3,ax4),(ax5,ax6,ax7,ax8)) = plt.subplots(2,4)\n",
    "ax1.imshow(input_img[0].reshape((40,40)))\n",
    "ax2.imshow(y[0].reshape((40,40)))\n",
    "ax3.imshow(input_img[1].reshape((40,40)))\n",
    "ax4.imshow(y[1].reshape((40,40)))\n",
    "ax5.imshow(input_img[2].reshape((40,40)))\n",
    "ax6.imshow(y[2].reshape((40,40)))\n",
    "ax7.imshow(input_img[3].reshape((40,40)))\n",
    "ax8.imshow(y[3].reshape((40,40)))"
   ]
  }
 ],
 "metadata": {
  "colab": {
   "collapsed_sections": [],
   "name": "STN-MNIST.ipynb",
   "provenance": [],
   "version": "0.3.2"
  },
  "kernelspec": {
   "display_name": "Python 3",
   "language": "python",
   "name": "python3"
  },
  "language_info": {
   "codemirror_mode": {
    "name": "ipython",
    "version": 3
   },
   "file_extension": ".py",
   "mimetype": "text/x-python",
   "name": "python",
   "nbconvert_exporter": "python",
   "pygments_lexer": "ipython3",
   "version": "3.6.5"
  }
 },
 "nbformat": 4,
 "nbformat_minor": 1
}
